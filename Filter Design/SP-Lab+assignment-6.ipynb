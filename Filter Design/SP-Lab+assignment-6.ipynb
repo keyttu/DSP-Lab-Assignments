{
 "cells": [
  {
   "cell_type": "markdown",
   "metadata": {},
   "source": [
    "## SP Lab Assignment 6: FIR and IIR Filters Design \n",
    "Q.1.(a)Determine and plot frequecy response of FIR Filters using Hamming windowing function. The details about FIR Filter Design are given:https://docs.scipy.org/doc/scipy/reference/generated/scipy.signal.firwin.html#scipy.signal.firwin <br>\n",
    "Important window functions: hamming,hann, blackman, triang, bartlett, flattop, parzen, bohman, blackmanharris, nuttall, barthann, kaiser (needs beta), gaussian (needs standard deviation), general_gaussian (needs power, width), slepian (needs width), dpss (needs normalized half-bandwidth), chebwin (needs attenuation), exponential (needs decay scale), tukey (needs taper fraction)<br>\n",
    "Python Function example: signal.get_window('triang', 7) <br>\n",
    "(b)Repeat part(a) for hann, blackman, and bartlett windowing functions"
   ]
  },
  {
   "cell_type": "code",
   "execution_count": 1,
   "metadata": {
    "collapsed": false
   },
   "outputs": [],
   "source": [
    "import numpy as np\n",
    "import scipy.signal as sig\n",
    "import matplotlib.pyplot as plt\n",
    "\n",
    "\n",
    "\n"
   ]
  },
  {
   "cell_type": "markdown",
   "metadata": {},
   "source": [
    "\n",
    "Q.2. Plot the frequecy resposne of LPF, HPF, BPF,and BSF FIR Filters with the following design parameters <br>\n",
    "(a)LPF  and HPF <br>\n",
    "fs = 22050.0       # Sample rate, Hz <br>\n",
    "cutoff = 8000.0    # Desired cutoff frequency, Hz <br>\n",
    "trans_width = 250  # Width of transition from pass band to stop band, Hz <br>\n",
    "numtaps = 125      # Size of the FIR filter.<br>\n",
    "\n",
    "(b)BPF and BSF  <br>\n",
    "fs = 22050.0       # Sample rate, Hz <br>\n",
    "band = [2000, 5000]  # Desired stop band, Hz <br>\n",
    "trans_width = 250  # Width of transition from pass band to stop band, Hz <br>\n",
    "numtaps = 125      # Size of the FIR filter.<br>\n",
    "\n",
    "The details about Python function  {scipy.signal.remez} are given:  https://docs.scipy.org/doc/scipy/reference/generated/scipy.signal.remez.html#scipy.signal.remez. <br>\n",
    " {tabs=scipy.signal.remez(numtaps, bands, desired, weight=None, Hz=None, type='bandpass', maxiter=25, grid_density=16, fs=None)[source]} "
   ]
  },
  {
   "cell_type": "markdown",
   "metadata": {},
   "source": [
    "Q.3. (a) For the Filter coefficients, we need to design a Low FIR filter that will suppress the 200Hz component by at least 30dB while leaving the 100Hz component alone. The digiatl low FIR filter with design specifications: passband between 0 to 200 and stop band from 300 to 500 (half the sampling frequency of 1000Hz). <br>\n",
    "Python function: taps=scipy.signal.remez(numtaps, bands, desired, weight=None, Hz=None, type='bandpass', maxiter=25, grid_density=16, fs=None) <br>\n",
    "(b) Determine and plot the filtered output signal using FIR Remez Algorithm  with design specifications mentioned in part(a) for the following signal and also compare between noisy signal and filted output signal: <br>\n",
    "$x(n)=sin(0.2\\pi n)+sin(1.2\\pi n)+w[n]; 0 ≤ n ≤ 40;$  Where $w(n)$ is ramdom noise with noise amplitude 20.\n",
    " "
   ]
  },
  {
   "cell_type": "code",
   "execution_count": null,
   "metadata": {
    "collapsed": true
   },
   "outputs": [],
   "source": [
    "import numpy as np \n",
    "import matplotlib.pyplot as plt\n",
    "import scipy.signal as sig\n",
    "import scipy.io.wavfile as wav"
   ]
  },
  {
   "cell_type": "markdown",
   "metadata": {},
   "source": [
    "Q.4.(a) Determine and plot the filtered output signal by FIR Hamming window function for the following signal and also compare between noisy signal and filted output signal: <br>\n",
    " $x(n)=sin(0.2\\pi n)+sin(1.2\\pi n)+w[n]; 0 ≤ n ≤ 60;$;Where $w(n)$ is ramdom noise with noise amplitude 20.<br>\n",
    " (b)Repeat part(a) for hann, blackman, and bartlett windowing functions"
   ]
  },
  {
   "cell_type": "code",
   "execution_count": null,
   "metadata": {
    "collapsed": true
   },
   "outputs": [],
   "source": [
    "import numpy as np \n",
    "import matplotlib.pyplot as plt\n",
    "import scipy.signal as sig\n"
   ]
  },
  {
   "cell_type": "markdown",
   "metadata": {},
   "source": [
    "Q.5.(a)Determine and plot the  filtered output signal by FIR Hamming window function for the following signal and also compare between noisy signal and filted output signal:<br>\n",
    " $ x[n] = 0.1n + sin(0.1nπ) + w[n];     0 ≤ n ≤ 60$;Where $w[n]$ is zero mean uniformly distributed random noise in $[−0.5\\,\\,  0.5]$.<br>\n",
    "(b)Repeat part(a) for Rectangular, hann, blackman, and bartlett windowing functions"
   ]
  },
  {
   "cell_type": "code",
   "execution_count": null,
   "metadata": {
    "collapsed": true
   },
   "outputs": [],
   "source": [
    "import numpy as np \n",
    "import matplotlib.pyplot as plt\n",
    "import scipy.signal as sig\n"
   ]
  },
  {
   "cell_type": "markdown",
   "metadata": {},
   "source": [
    "Q.6. Record your own voice for half a minute and observe the time domain waveform (It can be done using a Audacity sound recording tool in the computer. Please save in *.wav format, upload it  and read it using wavread command in Python for further processing).  Please look https://docs.scipy.org/doc/scipy-0.14.0/reference/generated/scipy.io.wavfile.read.html for documentation <br>\n",
    "(a) Find the sampling rate used by the recorder<br>\n",
    "(b) Generate noisy signal of your recoded signal by adding zero mean uniformly distributed random noise in $[−0.5\\,\\,  0.5]$.<br>\n",
    "(c) Determine and plot the  filtered output signal by FIR  Filter  using Hanning window and also compare between noisy signal and filted output signal"
   ]
  },
  {
   "cell_type": "markdown",
   "metadata": {},
   "source": [
    "Q.7. Determine and plot frequecy response of Low Butterworth and Chebyshev-I IIR Filters. The details about IIR Filter Design Python function{scipy.signal.iirdesign(wp, ws, gpass, gstop, analog=False, ftype='ellip', output='ba', fs=None)} are given: https://docs.scipy.org/doc/scipy/reference/generated/scipy.signal.iirdesign.html#scipy.signal.iirdesign <br>\n",
    "Passband and stopband edge frequencies. For digital filters, these are in the same units as fs. By default, fs is 2  half-cycles/sample, so these are normalized from 0 to 1, where 1 is the Nyquist frequency. For example:#Lowpass: wp = 0.2, ws = 0.3;~#Highpass: wp = 0.3, ws = 0.2;~#Bandpass: wp = [0.2, 0.5], ws = [0.1, 0.6];#Bandstop: wp = [0.1, 0.6], ws = [0.2, 0.5]\n",
    "#The type of IIR filter to design:#Butterworth: ‘butter’;#Chebyshev I : ‘cheby1’;#Chebyshev II : ‘cheby2’; #Elliptic: ‘ellip’; Bessel/Thomson: ‘bessel’"
   ]
  },
  {
   "cell_type": "code",
   "execution_count": 2,
   "metadata": {
    "collapsed": false
   },
   "outputs": [],
   "source": [
    "import numpy as np \n",
    "import matplotlib.pyplot as plt\n",
    "import scipy.signal as sig\n",
    "import scipy.io.wavfile as wav\n",
    "\n",
    "#"
   ]
  },
  {
   "cell_type": "markdown",
   "metadata": {},
   "source": [
    "Q.8. Record your own voice for half a minute and observe the time domain waveform (It can be done using a Audacity sound recording tool in the computer. Please save in *.wav format, upload it  and read it using wavread command in Python for further processing).  Please look https://docs.scipy.org/doc/scipy-0.14.0/reference/generated/scipy.io.wavfile.read.html for documentation <br>\n",
    "(a) Find the sampling rate used by the recorder<br>\n",
    "(b) Generate noisy signal of your recoded signal by adding zero mean uniformly distributed random noise in $[−0.5\\,\\,  0.5]$.<br>\n",
    "(c) Determine and plot the  filtered output signal by IIR  Filter and also compare between noisy signal and filted output signal"
   ]
  },
  {
   "cell_type": "code",
   "execution_count": 3,
   "metadata": {
    "collapsed": false
   },
   "outputs": [],
   "source": [
    "import numpy as np \n",
    "import scipy.io.wavfile as wav\n",
    "import matplotlib.pyplot as plt\n",
    "import scipy.signal as sig\n",
    "\n",
    "#\n"
   ]
  }
 ],
 "metadata": {
  "anaconda-cloud": {},
  "kernelspec": {
   "display_name": "Python [default]",
   "language": "python",
   "name": "python3"
  },
  "language_info": {
   "codemirror_mode": {
    "name": "ipython",
    "version": 3
   },
   "file_extension": ".py",
   "mimetype": "text/x-python",
   "name": "python",
   "nbconvert_exporter": "python",
   "pygments_lexer": "ipython3",
   "version": "3.5.2"
  }
 },
 "nbformat": 4,
 "nbformat_minor": 2
}
